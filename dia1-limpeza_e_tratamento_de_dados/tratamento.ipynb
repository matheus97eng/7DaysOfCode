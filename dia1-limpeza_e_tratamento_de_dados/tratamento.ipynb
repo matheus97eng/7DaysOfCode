{
 "cells": [
  {
   "cell_type": "markdown",
   "id": "34766924",
   "metadata": {},
   "source": [
    "# Tratamento de dados\n",
    "\n",
    "FONTE: [Dados abertos do CEAPS](https://www12.senado.leg.br/transparencia/dados-abertos-transparencia/dados-abertos-ceaps?utm_source=ActiveCampaign&utm_medium=email&utm_content=%237DaysOfCode+-+Ci%C3%AAncia+de+Dados+1%2F7%3A+Data+Cleaning+and+Preparation&utm_campaign=%5BAlura+%237Days+Of+Code%5D%28Java%29+Dia+1%2F7%3A+Consumir+uma+API+de+filmes). \n",
    "- Foram extraídos os dados dos anos de 2010 a 2022.\n",
    "- Os dados foram baixados no dia 21/04/2022\n",
    "\n"
   ]
  },
  {
   "cell_type": "markdown",
   "id": "3e4469c9",
   "metadata": {},
   "source": [
    "Vamos começar extraindo os dados dos csv fazendo a leitura com pandas. Todas as planilhas baixadas serão unidas em um único dataset.\n",
    "\n",
    "Após alguns testes iniciais, observou-se que deveriam ser usados as seguintes opções na função `read_csv`:\n",
    "- sep=';' pois os dados estão separados por ponto e vírgula\n",
    "- enconding='ISO-8859-1' pois os dados estão em português e pode haver caracteres especiais dessa língua, como acentuação\n",
    "- skiprows=1 pois a primeira linha do arquivo é somente uma informação de quando foi a última vez que os dados foram atualizados\n",
    "- decimal=',' separa números após a vírgula como sendo decimais\n",
    "- thousands='.' o ponto separa as unidades de milhar"
   ]
  },
  {
   "cell_type": "code",
   "execution_count": 1,
   "id": "5682dacd",
   "metadata": {},
   "outputs": [],
   "source": [
    "import pandas as pd\n",
    "import os\n",
    "from datetime import datetime"
   ]
  },
  {
   "cell_type": "code",
   "execution_count": 2,
   "id": "befed9a8",
   "metadata": {},
   "outputs": [
    {
     "data": {
      "text/html": [
       "<div>\n",
       "<style scoped>\n",
       "    .dataframe tbody tr th:only-of-type {\n",
       "        vertical-align: middle;\n",
       "    }\n",
       "\n",
       "    .dataframe tbody tr th {\n",
       "        vertical-align: top;\n",
       "    }\n",
       "\n",
       "    .dataframe thead th {\n",
       "        text-align: right;\n",
       "    }\n",
       "</style>\n",
       "<table border=\"1\" class=\"dataframe\">\n",
       "  <thead>\n",
       "    <tr style=\"text-align: right;\">\n",
       "      <th></th>\n",
       "      <th>ANO</th>\n",
       "      <th>MES</th>\n",
       "      <th>SENADOR</th>\n",
       "      <th>TIPO_DESPESA</th>\n",
       "      <th>CNPJ_CPF</th>\n",
       "      <th>FORNECEDOR</th>\n",
       "      <th>DOCUMENTO</th>\n",
       "      <th>DATA</th>\n",
       "      <th>DETALHAMENTO</th>\n",
       "      <th>VALOR_REEMBOLSADO</th>\n",
       "      <th>COD_DOCUMENTO</th>\n",
       "    </tr>\n",
       "  </thead>\n",
       "  <tbody>\n",
       "    <tr>\n",
       "      <th>0</th>\n",
       "      <td>2010</td>\n",
       "      <td>1</td>\n",
       "      <td>ACIR GURGACZ</td>\n",
       "      <td>Aluguel de imóveis para escritório político, c...</td>\n",
       "      <td>05.914.650/0001-66</td>\n",
       "      <td>CENTRAIS ELÉTRICAS DE RONDÔNIA</td>\n",
       "      <td>045216-3</td>\n",
       "      <td>19/01/2010</td>\n",
       "      <td>NaN</td>\n",
       "      <td>59.08</td>\n",
       "      <td>277219.0</td>\n",
       "    </tr>\n",
       "    <tr>\n",
       "      <th>1</th>\n",
       "      <td>2010</td>\n",
       "      <td>1</td>\n",
       "      <td>ACIR GURGACZ</td>\n",
       "      <td>Aluguel de imóveis para escritório político, c...</td>\n",
       "      <td>05.914.650/0001-66</td>\n",
       "      <td>CENTRAIS ELÉTRICAS DE RONDônia</td>\n",
       "      <td>0454206-1</td>\n",
       "      <td>19/01/2010</td>\n",
       "      <td>NaN</td>\n",
       "      <td>40.47</td>\n",
       "      <td>277218.0</td>\n",
       "    </tr>\n",
       "    <tr>\n",
       "      <th>2</th>\n",
       "      <td>2010</td>\n",
       "      <td>1</td>\n",
       "      <td>ACIR GURGACZ</td>\n",
       "      <td>Aluguel de imóveis para escritório político, c...</td>\n",
       "      <td>004.948.028-63</td>\n",
       "      <td>GILBERTO PISELO DO NASCIMENTO</td>\n",
       "      <td>NaN</td>\n",
       "      <td>12/01/2010</td>\n",
       "      <td>NaN</td>\n",
       "      <td>5000.0</td>\n",
       "      <td>229109.0</td>\n",
       "    </tr>\n",
       "    <tr>\n",
       "      <th>3</th>\n",
       "      <td>2010</td>\n",
       "      <td>1</td>\n",
       "      <td>ACIR GURGACZ</td>\n",
       "      <td>Divulgação da atividade parlamentar</td>\n",
       "      <td>09.040.457/0001-02</td>\n",
       "      <td>CENTRAL RONDÔNIA.COM</td>\n",
       "      <td>000003</td>\n",
       "      <td>05/01/2010</td>\n",
       "      <td>NaN</td>\n",
       "      <td>1500.0</td>\n",
       "      <td>268264.0</td>\n",
       "    </tr>\n",
       "    <tr>\n",
       "      <th>4</th>\n",
       "      <td>2010</td>\n",
       "      <td>1</td>\n",
       "      <td>ACIR GURGACZ</td>\n",
       "      <td>Locomoção, hospedagem, alimentação, combustíve...</td>\n",
       "      <td>15.896.509/0001-31</td>\n",
       "      <td>POSTO FORTALEZA</td>\n",
       "      <td>018215</td>\n",
       "      <td>07/01/2010</td>\n",
       "      <td>NaN</td>\n",
       "      <td>30.0</td>\n",
       "      <td>268265.0</td>\n",
       "    </tr>\n",
       "  </tbody>\n",
       "</table>\n",
       "</div>"
      ],
      "text/plain": [
       "    ANO  MES       SENADOR                                       TIPO_DESPESA  \\\n",
       "0  2010    1  ACIR GURGACZ  Aluguel de imóveis para escritório político, c...   \n",
       "1  2010    1  ACIR GURGACZ  Aluguel de imóveis para escritório político, c...   \n",
       "2  2010    1  ACIR GURGACZ  Aluguel de imóveis para escritório político, c...   \n",
       "3  2010    1  ACIR GURGACZ                Divulgação da atividade parlamentar   \n",
       "4  2010    1  ACIR GURGACZ  Locomoção, hospedagem, alimentação, combustíve...   \n",
       "\n",
       "             CNPJ_CPF                      FORNECEDOR  DOCUMENTO        DATA  \\\n",
       "0  05.914.650/0001-66  CENTRAIS ELÉTRICAS DE RONDÔNIA   045216-3  19/01/2010   \n",
       "1  05.914.650/0001-66  CENTRAIS ELÉTRICAS DE RONDônia  0454206-1  19/01/2010   \n",
       "2      004.948.028-63   GILBERTO PISELO DO NASCIMENTO        NaN  12/01/2010   \n",
       "3  09.040.457/0001-02            CENTRAL RONDÔNIA.COM     000003  05/01/2010   \n",
       "4  15.896.509/0001-31                 POSTO FORTALEZA     018215  07/01/2010   \n",
       "\n",
       "  DETALHAMENTO VALOR_REEMBOLSADO  COD_DOCUMENTO  \n",
       "0          NaN             59.08       277219.0  \n",
       "1          NaN             40.47       277218.0  \n",
       "2          NaN            5000.0       229109.0  \n",
       "3          NaN            1500.0       268264.0  \n",
       "4          NaN              30.0       268265.0  "
      ]
     },
     "metadata": {},
     "output_type": "display_data"
    },
    {
     "data": {
      "text/plain": [
       "(286388, 11)"
      ]
     },
     "execution_count": 2,
     "metadata": {},
     "output_type": "execute_result"
    }
   ],
   "source": [
    "os.chdir(r\"C:\\Users\\mathe\\OneDrive\\Documentos\\Ciencia de Dados\\projetos\\7 days of code\\dia 1 - limpeza de dados\")\n",
    "os.chdir('data')     # acessando diretório escolhido\n",
    "\n",
    "data_list = list(filter(os.path.isfile, os.listdir()))      # faz uma lista com todos os arquivos da pasta\n",
    "\n",
    "# lendo a primeira planilha\n",
    "ds = pd.read_csv(data_list[0], sep=';', encoding='ISO-8859-1', skiprows=1, decimal=',', thousands='.')\n",
    "\n",
    "# lendo as demais planilhas e concatenando com ds\n",
    "for data in data_list[1:]:\n",
    "    ds_concat = pd.read_csv(data, sep=';', encoding='ISO-8859-1', skiprows=1, decimal=',', thousands='.')\n",
    "    ds = pd.concat([ds, ds_concat], axis=0, ignore_index=True)\n",
    "\n",
    "display(ds.head())\n",
    "ds.shape"
   ]
  },
  {
   "cell_type": "markdown",
   "id": "9ee894d5",
   "metadata": {},
   "source": [
    "## Dados duplicados e nulos\n",
    "\n",
    "Começamos verificando se há alguma linha duplicada:"
   ]
  },
  {
   "cell_type": "code",
   "execution_count": 3,
   "id": "efad8234",
   "metadata": {},
   "outputs": [
    {
     "data": {
      "text/plain": [
       "0"
      ]
     },
     "execution_count": 3,
     "metadata": {},
     "output_type": "execute_result"
    }
   ],
   "source": [
    "sum(ds.duplicated())"
   ]
  },
  {
   "cell_type": "markdown",
   "id": "202367e1",
   "metadata": {},
   "source": [
    "A última coluna parece ser um tipo de ID para cada documento do CEAPS, um ID único para cada linha do dataset. Podemos verificar isso:"
   ]
  },
  {
   "cell_type": "code",
   "execution_count": 4,
   "id": "7d0c7a4c",
   "metadata": {},
   "outputs": [
    {
     "data": {
      "text/plain": [
       "1"
      ]
     },
     "execution_count": 4,
     "metadata": {},
     "output_type": "execute_result"
    }
   ],
   "source": [
    "sum(ds['COD_DOCUMENTO'].duplicated())"
   ]
  },
  {
   "cell_type": "raw",
   "id": "50fb2d28",
   "metadata": {},
   "source": [
    "Foi identificada uma linha duplicada nessa coluna. Podemos verificar se realmente ela representa documentos iguais"
   ]
  },
  {
   "cell_type": "code",
   "execution_count": 5,
   "id": "95562879",
   "metadata": {},
   "outputs": [
    {
     "data": {
      "text/html": [
       "<div>\n",
       "<style scoped>\n",
       "    .dataframe tbody tr th:only-of-type {\n",
       "        vertical-align: middle;\n",
       "    }\n",
       "\n",
       "    .dataframe tbody tr th {\n",
       "        vertical-align: top;\n",
       "    }\n",
       "\n",
       "    .dataframe thead th {\n",
       "        text-align: right;\n",
       "    }\n",
       "</style>\n",
       "<table border=\"1\" class=\"dataframe\">\n",
       "  <thead>\n",
       "    <tr style=\"text-align: right;\">\n",
       "      <th></th>\n",
       "      <th>ANO</th>\n",
       "      <th>MES</th>\n",
       "      <th>SENADOR</th>\n",
       "      <th>TIPO_DESPESA</th>\n",
       "      <th>CNPJ_CPF</th>\n",
       "      <th>FORNECEDOR</th>\n",
       "      <th>DOCUMENTO</th>\n",
       "      <th>DATA</th>\n",
       "      <th>DETALHAMENTO</th>\n",
       "      <th>VALOR_REEMBOLSADO</th>\n",
       "      <th>COD_DOCUMENTO</th>\n",
       "    </tr>\n",
       "  </thead>\n",
       "  <tbody>\n",
       "    <tr>\n",
       "      <th>131284</th>\n",
       "      <td>2015</td>\n",
       "      <td>8</td>\n",
       "      <td>EDUARDO AMORIM</td>\n",
       "      <td>Passagens aéreas, aquáticas e terrestres nacio...</td>\n",
       "      <td>13.353.495/0001-84</td>\n",
       "      <td>PROPAGTUR - Propag Turismo Ltda</td>\n",
       "      <td>SEM FATURA\";02/08/2015\"</td>\n",
       "      <td>Companhia Aérea: TAM, Localizador: YXGDSJ. Pas...</td>\n",
       "      <td>469,53</td>\n",
       "      <td>2014675.0</td>\n",
       "      <td>NaN</td>\n",
       "    </tr>\n",
       "    <tr>\n",
       "      <th>131291</th>\n",
       "      <td>2015</td>\n",
       "      <td>8</td>\n",
       "      <td>EDUARDO AMORIM</td>\n",
       "      <td>Passagens aéreas, aquáticas e terrestres nacio...</td>\n",
       "      <td>13.353.495/0001-84</td>\n",
       "      <td>PROPAGTUR - Propag Turismo Ltda</td>\n",
       "      <td>¨¨SEM FATURA\";17/08/2015\"</td>\n",
       "      <td>Companhia Aérea: AVIANCA, Localizador: ZNEU9F....</td>\n",
       "      <td>460,45</td>\n",
       "      <td>2016557.0</td>\n",
       "      <td>NaN</td>\n",
       "    </tr>\n",
       "  </tbody>\n",
       "</table>\n",
       "</div>"
      ],
      "text/plain": [
       "         ANO  MES         SENADOR  \\\n",
       "131284  2015    8  EDUARDO AMORIM   \n",
       "131291  2015    8  EDUARDO AMORIM   \n",
       "\n",
       "                                             TIPO_DESPESA            CNPJ_CPF  \\\n",
       "131284  Passagens aéreas, aquáticas e terrestres nacio...  13.353.495/0001-84   \n",
       "131291  Passagens aéreas, aquáticas e terrestres nacio...  13.353.495/0001-84   \n",
       "\n",
       "                             FORNECEDOR                  DOCUMENTO  \\\n",
       "131284  PROPAGTUR - Propag Turismo Ltda    SEM FATURA\";02/08/2015\"   \n",
       "131291  PROPAGTUR - Propag Turismo Ltda  ¨¨SEM FATURA\";17/08/2015\"   \n",
       "\n",
       "                                                     DATA DETALHAMENTO  \\\n",
       "131284  Companhia Aérea: TAM, Localizador: YXGDSJ. Pas...       469,53   \n",
       "131291  Companhia Aérea: AVIANCA, Localizador: ZNEU9F....       460,45   \n",
       "\n",
       "       VALOR_REEMBOLSADO  COD_DOCUMENTO  \n",
       "131284         2014675.0            NaN  \n",
       "131291         2016557.0            NaN  "
      ]
     },
     "execution_count": 5,
     "metadata": {},
     "output_type": "execute_result"
    }
   ],
   "source": [
    "ds[ds['COD_DOCUMENTO'].duplicated(keep=False)]"
   ]
  },
  {
   "cell_type": "code",
   "execution_count": 6,
   "id": "7af18c4e",
   "metadata": {},
   "outputs": [
    {
     "data": {
      "text/plain": [
       "131284"
      ]
     },
     "execution_count": 6,
     "metadata": {},
     "output_type": "execute_result"
    }
   ],
   "source": [
    "ds[ds['COD_DOCUMENTO'].duplicated(keep=False)].index[0]"
   ]
  },
  {
   "cell_type": "markdown",
   "id": "c1ab56ee",
   "metadata": {},
   "source": [
    "Podemos perceber que a coluna COD_DOCUMENTO ficou sem dados nesses índices, mas isso é por conta de uma má formatação do arquivo. Nesses índices, a coluna DOCUMENTO ficou com 2 informações separadas por \";\".\n",
    "\n",
    "O jeito mais rápido de concertar isso é colocando os valores corretos nas colunas manualmente"
   ]
  },
  {
   "cell_type": "code",
   "execution_count": 7,
   "id": "8b841146",
   "metadata": {},
   "outputs": [
    {
     "data": {
      "text/html": [
       "<div>\n",
       "<style scoped>\n",
       "    .dataframe tbody tr th:only-of-type {\n",
       "        vertical-align: middle;\n",
       "    }\n",
       "\n",
       "    .dataframe tbody tr th {\n",
       "        vertical-align: top;\n",
       "    }\n",
       "\n",
       "    .dataframe thead th {\n",
       "        text-align: right;\n",
       "    }\n",
       "</style>\n",
       "<table border=\"1\" class=\"dataframe\">\n",
       "  <thead>\n",
       "    <tr style=\"text-align: right;\">\n",
       "      <th></th>\n",
       "      <th>ANO</th>\n",
       "      <th>MES</th>\n",
       "      <th>SENADOR</th>\n",
       "      <th>TIPO_DESPESA</th>\n",
       "      <th>CNPJ_CPF</th>\n",
       "      <th>FORNECEDOR</th>\n",
       "      <th>DOCUMENTO</th>\n",
       "      <th>DATA</th>\n",
       "      <th>DETALHAMENTO</th>\n",
       "      <th>VALOR_REEMBOLSADO</th>\n",
       "      <th>COD_DOCUMENTO</th>\n",
       "    </tr>\n",
       "  </thead>\n",
       "  <tbody>\n",
       "  </tbody>\n",
       "</table>\n",
       "</div>"
      ],
      "text/plain": [
       "Empty DataFrame\n",
       "Columns: [ANO, MES, SENADOR, TIPO_DESPESA, CNPJ_CPF, FORNECEDOR, DOCUMENTO, DATA, DETALHAMENTO, VALOR_REEMBOLSADO, COD_DOCUMENTO]\n",
       "Index: []"
      ]
     },
     "execution_count": 7,
     "metadata": {},
     "output_type": "execute_result"
    }
   ],
   "source": [
    "id1 = ds[ds['COD_DOCUMENTO'].duplicated(keep=False)].index[0]\n",
    "id2 = ds[ds['COD_DOCUMENTO'].duplicated(keep=False)].index[1]\n",
    "\n",
    "ds.iloc[id1, 10] = ds.iloc[id1, 9]\n",
    "ds.iloc[id1, 9] = ds.iloc[id1, 8]\n",
    "ds.iloc[id1, 8] = ds.iloc[id1, 7]\n",
    "ds.iloc[id1, 7] = \"02/08/2015\"\n",
    "ds.iloc[id1, 6] = \"SEM FATURA\"\n",
    "\n",
    "ds.iloc[id2, 10] = ds.iloc[id2, 9]\n",
    "ds.iloc[id2, 9] = ds.iloc[id2, 8]\n",
    "ds.iloc[id2, 8] = ds.iloc[id2, 7]\n",
    "ds.iloc[id2, 7] = \"17/08/2015\"\n",
    "ds.iloc[id2, 6] = \"SEM FATURA\"\n",
    "\n",
    "ds[ds['COD_DOCUMENTO'].duplicated(keep=False)]"
   ]
  },
  {
   "cell_type": "markdown",
   "id": "18878bea",
   "metadata": {},
   "source": [
    "Agora podemos ver que não há mais IDs de documento duplicados.\n",
    "Verificando se há mais dados nulos no dataset:"
   ]
  },
  {
   "cell_type": "code",
   "execution_count": 8,
   "id": "5e5c9197",
   "metadata": {},
   "outputs": [
    {
     "data": {
      "text/plain": [
       "ANO                   0.000000\n",
       "MES                   0.000000\n",
       "SENADOR               0.000000\n",
       "TIPO_DESPESA          0.000000\n",
       "CNPJ_CPF              0.000000\n",
       "FORNECEDOR            0.000000\n",
       "DOCUMENTO             6.809643\n",
       "DATA                  0.000000\n",
       "DETALHAMENTO         39.356747\n",
       "VALOR_REEMBOLSADO     0.000000\n",
       "COD_DOCUMENTO         0.000000\n",
       "dtype: float64"
      ]
     },
     "execution_count": 8,
     "metadata": {},
     "output_type": "execute_result"
    }
   ],
   "source": [
    "ds.isnull().sum()/ds.shape[0]*100"
   ]
  },
  {
   "cell_type": "markdown",
   "id": "65504fe7",
   "metadata": {},
   "source": [
    "Com o cálculo acima, podemos ver que há duas colunas com dados nulos:\n",
    "- DOCUMENTO, que possui cerca de 6,8% dos seus dados vazios\n",
    "- DETALHAMENTO, que possui quase 40% dos seus dados vazios.\n",
    "\n",
    "A coluna DETALHAMENTO, quando analisada mais atentamente, nos mostra informações a mais sobre o tipo de despesa do senador. Isso pode ser útil em uma análise exploratória ou aplicação de modelo. O que será decidido aqui é preencher os dados vazios dessa coluna com os dados da coluna TIPO_DESPESA. Assim, sempre teremos alguma informação na coluna DETALHAMENTO, mesmo que ela não seja a mais específica possível.\n",
    "\n",
    "Por hora, não se vê a necessidade de se saber qual é o documento que registra cada despesa dos senadores, por isso será decidido excluir a coluna DOCUMENTO. A coluna COD_DOCUMENTO também será excluída, pois não acrescenta em nada nas informações sobre os gastos."
   ]
  },
  {
   "cell_type": "code",
   "execution_count": 9,
   "id": "aa950271",
   "metadata": {},
   "outputs": [],
   "source": [
    "ds_original = ds\n",
    "\n",
    "# excluindo colunas\n",
    "ds = ds.drop(columns = ['DOCUMENTO', 'COD_DOCUMENTO'])\n",
    "\n",
    "# preenchendo dados nulos da coluna DETALHAMENTO\n",
    "ds.loc[ds['DETALHAMENTO'].isnull(), 'DETALHAMENTO'] = ds[ds['DETALHAMENTO'].isnull()]['TIPO_DESPESA']"
   ]
  },
  {
   "cell_type": "code",
   "execution_count": 10,
   "id": "9b7f3f9d",
   "metadata": {},
   "outputs": [
    {
     "data": {
      "text/plain": [
       "0"
      ]
     },
     "execution_count": 10,
     "metadata": {},
     "output_type": "execute_result"
    }
   ],
   "source": [
    "ds.isnull().sum().sum()"
   ]
  },
  {
   "cell_type": "markdown",
   "id": "2f701410",
   "metadata": {},
   "source": [
    "Como podemos ver, agora não resta mais nenhum dado nulo ou duplicado."
   ]
  },
  {
   "cell_type": "markdown",
   "id": "4d1bb302",
   "metadata": {},
   "source": [
    "## Definindo os tipos de dados\n",
    "\n",
    "Podemos executar o método `.info()` que nos dá algumas informações sobre os tipos de dados das colunas:"
   ]
  },
  {
   "cell_type": "code",
   "execution_count": 11,
   "id": "7a0b0622",
   "metadata": {},
   "outputs": [
    {
     "name": "stdout",
     "output_type": "stream",
     "text": [
      "<class 'pandas.core.frame.DataFrame'>\n",
      "RangeIndex: 286388 entries, 0 to 286387\n",
      "Data columns (total 9 columns):\n",
      " #   Column             Non-Null Count   Dtype \n",
      "---  ------             --------------   ----- \n",
      " 0   ANO                286388 non-null  int64 \n",
      " 1   MES                286388 non-null  int64 \n",
      " 2   SENADOR            286388 non-null  object\n",
      " 3   TIPO_DESPESA       286388 non-null  object\n",
      " 4   CNPJ_CPF           286388 non-null  object\n",
      " 5   FORNECEDOR         286388 non-null  object\n",
      " 6   DATA               286388 non-null  object\n",
      " 7   DETALHAMENTO       286388 non-null  object\n",
      " 8   VALOR_REEMBOLSADO  286388 non-null  object\n",
      "dtypes: int64(2), object(7)\n",
      "memory usage: 19.7+ MB\n"
     ]
    }
   ],
   "source": [
    "ds.info()"
   ]
  },
  {
   "cell_type": "markdown",
   "id": "93f7b33d",
   "metadata": {},
   "source": [
    "Logo percebemos 2 colunas que estão com o tipo dos seus dados de forma errada:\n",
    "- DATA, que deveria estar em `Datetype`\n",
    "- VALOR_REEMBOLSO, que deveria estar como `float`, por representar valor financeiro"
   ]
  },
  {
   "cell_type": "code",
   "execution_count": 12,
   "id": "562605e1",
   "metadata": {},
   "outputs": [],
   "source": [
    "ds['DATA'] = ds['DATA'].map(lambda x: datetime.strptime(x, '%d/%m/%Y'))\n",
    "\n",
    "def format_num(num):\n",
    "    if type(num) == 'str':\n",
    "        num = num.replace(',', '.')\n",
    "        return float(num)\n",
    "    else:\n",
    "        return num\n",
    "\n",
    "ds['VALOR_REEMBOLSADO'] = ds['VALOR_REEMBOLSADO'].map(format_num)"
   ]
  },
  {
   "cell_type": "markdown",
   "id": "d9e4128e",
   "metadata": {},
   "source": [
    "Com as devidas alterações feitas, precisamos exportar esse dataset para um novo arquivo csv:"
   ]
  },
  {
   "cell_type": "code",
   "execution_count": 28,
   "id": "d9eebfbf",
   "metadata": {},
   "outputs": [],
   "source": [
    "ds.to_csv('dados_tratados_CEAPS.csv', sep=';')"
   ]
  }
 ],
 "metadata": {
  "kernelspec": {
   "display_name": "Python 3",
   "language": "python",
   "name": "python3"
  },
  "language_info": {
   "codemirror_mode": {
    "name": "ipython",
    "version": 3
   },
   "file_extension": ".py",
   "mimetype": "text/x-python",
   "name": "python",
   "nbconvert_exporter": "python",
   "pygments_lexer": "ipython3",
   "version": "3.8.8"
  }
 },
 "nbformat": 4,
 "nbformat_minor": 5
}
